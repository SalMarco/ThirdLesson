{
 "cells": [
  {
   "cell_type": "markdown",
   "metadata": {
    "hideCode": false,
    "hidePrompt": false,
    "slideshow": {
     "slide_type": "slide"
    }
   },
   "source": [
    "Introduction to Python\n",
    "================================\n",
    "\n",
    "Lesson 3 - Part1\n",
    "--------"
   ]
  },
  {
   "cell_type": "markdown",
   "metadata": {
    "hideCode": true,
    "hidePrompt": false
   },
   "source": [
    "## Summary \n",
    "\n",
    "In this lesson we will focus on Neural Network. The lesson is divided between an introduction an a technical part\n",
    "The topis that we'll cover are in the introduction are:\n",
    "\n",
    "  - Tensorflow\n",
    "  - Keras \n",
    "  \n",
    "For the technical part we will create some models for:\n",
    "\n",
    "  - Single class classification\n",
    "  - Multi class classification\n",
    "  - Custom model\n"
   ]
  },
  {
   "cell_type": "markdown",
   "metadata": {
    "slideshow": {
     "slide_type": "slide"
    }
   },
   "source": [
    "## Introduction\n",
    "\n",
    "Today there are many framework that allow to create a Neural Network, like:\n",
    "\n",
    "  - Tensorflow \n",
    "  - Theano\n",
    "  - Caffe\n",
    "  - MXNett\n",
    "  - CNTK\n",
    "  \n",
    "Among all of them, probabilly the most famous is Tensorflow.\n",
    "\n",
    "Considering the support, the community the resources available, Tensorflow is the engine chosen for this course.  "
   ]
  },
  {
   "cell_type": "markdown",
   "metadata": {
    "slideshow": {
     "slide_type": "slide"
    }
   },
   "source": [
    "## Tensorflow\n",
    "\n",
    "[Tensorflow](https://www.tensorflow.org/) it was originally developed by Google, now it's open source.\n",
    "\n",
    "The definition from the web site is the following:\n",
    "\n",
    "*TensorFlow™ is an open source software library for high performance numerical computation. Its flexible architecture allows easy deployment of computation across a variety of platforms (CPUs, GPUs, TPUs), and from desktops to clusters of servers to mobile and edge devices. Originally developed by researchers and engineers from the Google Brain team within Google’s AI organization, it comes with strong support for machine learning and deep learning and the flexible numerical computation core is used across many other scientific domains.*\n",
    "\n",
    "Google has deeply invested in this project, to the point that now in Google Cloud there are available some instances with GPU's (called TPU's) designed especially for TensorFlow. "
   ]
  },
  {
   "cell_type": "markdown",
   "metadata": {
    "slideshow": {
     "slide_type": "slide"
    }
   },
   "source": [
    "## Keras\n",
    "\n",
    "In order to simply the definition of the Neural Network and to speed up the development time we'll not use TensorFlow directly.\n",
    "Instead we'll use [Keras](https://keras.io/).\n",
    "\n",
    "The definition from the website is the following:\n",
    "\n",
    "*Keras is a high-level neural networks API, written in Python and capable of running on top of TensorFlow, CNTK, or Theano. It was developed with a focus on enabling fast experimentation. Being able to go from idea to result with the least possible delay is key to doing good research.\n",
    "*\n",
    "\n",
    "As you can see from the description, Keras offers another advantage: with just a change of setting the same code can be used with:\n",
    "\n",
    "  - Tensorflow\n",
    "  - Theano\n",
    "  - CNTK"
   ]
  },
  {
   "cell_type": "markdown",
   "metadata": {},
   "source": [
    "## Comparison between Keras and Tensorflow\n",
    "\n",
    "In order to undestand the advantage of using Keras, we will consider the code necessary to define the same network using TensorFlow directly or Keras."
   ]
  },
  {
   "cell_type": "markdown",
   "metadata": {
    "slideshow": {
     "slide_type": "slide"
    }
   },
   "source": [
    "## TensoFlow Multiclass\n",
    "\n",
    "Let's create a neural network to be used over the classic [mnsit](http://yann.lecun.com/exdb/mnist/) hand written digits with two hidden layer to classify samples in to the 10 possible classes. \n",
    "\n"
   ]
  },
  {
   "cell_type": "code",
   "execution_count": 46,
   "metadata": {
    "slideshow": {
     "slide_type": "subslide"
    }
   },
   "outputs": [
    {
     "name": "stdout",
     "output_type": "stream",
     "text": [
      "Step 1, Minibatch Loss= 13092.2383, Training Accuracy= 0.305\n",
      "Step 2, Minibatch Loss= 9217.1924, Training Accuracy= 0.469\n",
      "Step 3, Minibatch Loss= 10747.7461, Training Accuracy= 0.359\n",
      "Step 4, Minibatch Loss= 8515.5430, Training Accuracy= 0.367\n",
      "Step 5, Minibatch Loss= 4846.1816, Training Accuracy= 0.578\n",
      "Step 6, Minibatch Loss= 4259.8452, Training Accuracy= 0.625\n",
      "Step 7, Minibatch Loss= 4784.9697, Training Accuracy= 0.578\n",
      "Step 8, Minibatch Loss= 3849.3728, Training Accuracy= 0.633\n",
      "Step 9, Minibatch Loss= 3358.5283, Training Accuracy= 0.656\n",
      "Step 10, Minibatch Loss= 1910.4451, Training Accuracy= 0.766\n",
      "Step 11, Minibatch Loss= 2261.0454, Training Accuracy= 0.688\n",
      "Step 12, Minibatch Loss= 1488.2395, Training Accuracy= 0.789\n",
      "Step 13, Minibatch Loss= 2552.8091, Training Accuracy= 0.734\n",
      "Step 14, Minibatch Loss= 3204.1516, Training Accuracy= 0.711\n",
      "Step 15, Minibatch Loss= 3431.4958, Training Accuracy= 0.719\n",
      "Optimization Finished!\n",
      "Testing Accuracy: 0.7317\n"
     ]
    }
   ],
   "source": [
    "from __future__ import print_function\n",
    "\n",
    "# Import MNIST data\n",
    "from tensorflow.examples.tutorials.mnist import input_data\n",
    "#mnist = input_data.read_data_sets(\"/tmp/data/\", one_hot=True)\n",
    "\n",
    "import tensorflow as tf\n",
    "\n",
    "# Parameters\n",
    "learning_rate = 0.1\n",
    "num_steps = 15\n",
    "batch_size = 128\n",
    "display_step = 1\n",
    "\n",
    "# Network Parameters\n",
    "n_hidden_1 = 256 # 1st layer number of neurons\n",
    "n_hidden_2 = 256 # 2nd layer number of neurons\n",
    "num_input = 784 # MNIST data input (img shape: 28*28)\n",
    "num_classes = 10 # MNIST total classes (0-9 digits)\n",
    "\n",
    "# tf Graph input\n",
    "X = tf.placeholder(\"float\", [None, num_input])\n",
    "Y = tf.placeholder(\"float\", [None, num_classes])\n",
    "\n",
    "# Store layers weight & bias\n",
    "weights = {\n",
    "    'h1': tf.Variable(tf.random_normal([num_input, n_hidden_1])),\n",
    "    'h2': tf.Variable(tf.random_normal([n_hidden_1, n_hidden_2])),\n",
    "    'out': tf.Variable(tf.random_normal([n_hidden_2, num_classes]))\n",
    "}\n",
    "biases = {\n",
    "    'b1': tf.Variable(tf.random_normal([n_hidden_1])),\n",
    "    'b2': tf.Variable(tf.random_normal([n_hidden_2])),\n",
    "    'out': tf.Variable(tf.random_normal([num_classes]))\n",
    "}\n",
    "\n",
    "\n",
    "# Create model\n",
    "def neural_net(x):\n",
    "    # Hidden fully connected layer with 256 neurons\n",
    "    layer_1 = tf.add(tf.matmul(x, weights['h1']), biases['b1'])\n",
    "    # Hidden fully connected layer with 256 neurons\n",
    "    layer_2 = tf.add(tf.matmul(layer_1, weights['h2']), biases['b2'])\n",
    "    # Output fully connected layer with a neuron for each class\n",
    "    out_layer = tf.matmul(layer_2, weights['out']) + biases['out']\n",
    "    return out_layer\n",
    "\n",
    "# Construct model\n",
    "logits = neural_net(X)\n",
    "prediction = tf.nn.softmax(logits)\n",
    "\n",
    "# Define loss and optimizer\n",
    "loss_op = tf.reduce_mean(tf.nn.softmax_cross_entropy_with_logits(\n",
    "    logits=logits, labels=Y))\n",
    "optimizer = tf.train.AdamOptimizer(learning_rate=learning_rate)\n",
    "train_op = optimizer.minimize(loss_op)\n",
    "\n",
    "# Evaluate model\n",
    "correct_pred = tf.equal(tf.argmax(prediction, 1), tf.argmax(Y, 1))\n",
    "accuracy = tf.reduce_mean(tf.cast(correct_pred, tf.float32))\n",
    "\n",
    "# Initialize the variables (i.e. assign their default value)\n",
    "init = tf.global_variables_initializer()\n",
    "\n",
    "# Start training\n",
    "with tf.Session() as sess:\n",
    "\n",
    "    # Run the initializer\n",
    "    sess.run(init)\n",
    "\n",
    "    for step in range(1, num_steps+1):\n",
    "        batch_x, batch_y = mnist.train.next_batch(batch_size)\n",
    "        # Run optimization op (backprop)\n",
    "        sess.run(train_op, feed_dict={X: batch_x, Y: batch_y})\n",
    "        if step % display_step == 0 or step == 1:\n",
    "            # Calculate batch loss and accuracy\n",
    "            loss, acc = sess.run([loss_op, accuracy], feed_dict={X: batch_x,\n",
    "                                                                 Y: batch_y})\n",
    "            print(\"Step \" + str(step) + \", Minibatch Loss= \" + \\\n",
    "                  \"{:.4f}\".format(loss) + \", Training Accuracy= \" + \\\n",
    "                  \"{:.3f}\".format(acc))\n",
    "\n",
    "    print(\"Optimization Finished!\")\n",
    "\n",
    "    # Calculate accuracy for MNIST test images\n",
    "    print(\"Testing Accuracy:\", \\\n",
    "        sess.run(accuracy, feed_dict={X: mnist.test.images,\n",
    "                                      Y: mnist.test.labels}))"
   ]
  },
  {
   "cell_type": "code",
   "execution_count": 1,
   "metadata": {},
   "outputs": [
    {
     "name": "stdout",
     "output_type": "stream",
     "text": [
      "WARNING:tensorflow:From <ipython-input-1-c3d55fec490c>:2: read_data_sets (from tensorflow.contrib.learn.python.learn.datasets.mnist) is deprecated and will be removed in a future version.\n",
      "Instructions for updating:\n",
      "Please use alternatives such as official/mnist/dataset.py from tensorflow/models.\n",
      "WARNING:tensorflow:From /anaconda3/lib/python3.6/site-packages/tensorflow/contrib/learn/python/learn/datasets/mnist.py:260: maybe_download (from tensorflow.contrib.learn.python.learn.datasets.base) is deprecated and will be removed in a future version.\n",
      "Instructions for updating:\n",
      "Please write your own downloading logic.\n",
      "WARNING:tensorflow:From /anaconda3/lib/python3.6/site-packages/tensorflow/contrib/learn/python/learn/datasets/base.py:252: _internal_retry.<locals>.wrap.<locals>.wrapped_fn (from tensorflow.contrib.learn.python.learn.datasets.base) is deprecated and will be removed in a future version.\n",
      "Instructions for updating:\n",
      "Please use urllib or similar directly.\n",
      "Successfully downloaded train-images-idx3-ubyte.gz 9912422 bytes.\n",
      "WARNING:tensorflow:From /anaconda3/lib/python3.6/site-packages/tensorflow/contrib/learn/python/learn/datasets/mnist.py:262: extract_images (from tensorflow.contrib.learn.python.learn.datasets.mnist) is deprecated and will be removed in a future version.\n",
      "Instructions for updating:\n",
      "Please use tf.data to implement this functionality.\n",
      "Extracting /tmp/data/train-images-idx3-ubyte.gz\n",
      "Successfully downloaded train-labels-idx1-ubyte.gz 28881 bytes.\n",
      "WARNING:tensorflow:From /anaconda3/lib/python3.6/site-packages/tensorflow/contrib/learn/python/learn/datasets/mnist.py:267: extract_labels (from tensorflow.contrib.learn.python.learn.datasets.mnist) is deprecated and will be removed in a future version.\n",
      "Instructions for updating:\n",
      "Please use tf.data to implement this functionality.\n",
      "Extracting /tmp/data/train-labels-idx1-ubyte.gz\n",
      "WARNING:tensorflow:From /anaconda3/lib/python3.6/site-packages/tensorflow/contrib/learn/python/learn/datasets/mnist.py:110: dense_to_one_hot (from tensorflow.contrib.learn.python.learn.datasets.mnist) is deprecated and will be removed in a future version.\n",
      "Instructions for updating:\n",
      "Please use tf.one_hot on tensors.\n",
      "Successfully downloaded t10k-images-idx3-ubyte.gz 1648877 bytes.\n",
      "Extracting /tmp/data/t10k-images-idx3-ubyte.gz\n",
      "Successfully downloaded t10k-labels-idx1-ubyte.gz 4542 bytes.\n",
      "Extracting /tmp/data/t10k-labels-idx1-ubyte.gz\n",
      "WARNING:tensorflow:From /anaconda3/lib/python3.6/site-packages/tensorflow/contrib/learn/python/learn/datasets/mnist.py:290: DataSet.__init__ (from tensorflow.contrib.learn.python.learn.datasets.mnist) is deprecated and will be removed in a future version.\n",
      "Instructions for updating:\n",
      "Please use alternatives such as official/mnist/dataset.py from tensorflow/models.\n"
     ]
    }
   ],
   "source": [
    "from tensorflow.examples.tutorials.mnist import input_data\n",
    "mnist = input_data.read_data_sets(\"/tmp/data/\", one_hot=True)"
   ]
  },
  {
   "cell_type": "code",
   "execution_count": 12,
   "metadata": {},
   "outputs": [
    {
     "data": {
      "text/plain": [
       "array([[0., 0., 0., ..., 0., 0., 0.],\n",
       "       [0., 0., 0., ..., 0., 0., 0.],\n",
       "       [0., 0., 0., ..., 0., 0., 0.],\n",
       "       ...,\n",
       "       [0., 0., 0., ..., 0., 0., 0.],\n",
       "       [0., 0., 0., ..., 0., 0., 0.],\n",
       "       [0., 0., 0., ..., 0., 0., 0.]], dtype=float32)"
      ]
     },
     "execution_count": 12,
     "metadata": {},
     "output_type": "execute_result"
    }
   ],
   "source": [
    "mnist.train.images"
   ]
  },
  {
   "cell_type": "markdown",
   "metadata": {
    "slideshow": {
     "slide_type": "slide"
    }
   },
   "source": [
    "## Keras Multiclass\n",
    "\n",
    "Let's create a neural network to be used over the classic [mnsit](http://yann.lecun.com/exdb/mnist/) hand written digits with two hidden layer to classify samples in to the 10 possible classes."
   ]
  },
  {
   "cell_type": "code",
   "execution_count": 78,
   "metadata": {
    "slideshow": {
     "slide_type": "subslide"
    }
   },
   "outputs": [
    {
     "name": "stdout",
     "output_type": "stream",
     "text": [
      "Epoch 1/15\n",
      "10000/10000 [==============================] - 3s 262us/step - loss: 0.5023 - acc: 0.8582\n",
      "Epoch 2/15\n",
      "10000/10000 [==============================] - 1s 123us/step - loss: 0.1694 - acc: 0.9454\n",
      "Epoch 3/15\n",
      "10000/10000 [==============================] - 1s 115us/step - loss: 0.0975 - acc: 0.9697\n",
      "Epoch 4/15\n",
      "10000/10000 [==============================] - 1s 115us/step - loss: 0.0573 - acc: 0.9824\n",
      "Epoch 5/15\n",
      "10000/10000 [==============================] - 1s 118us/step - loss: 0.0372 - acc: 0.9877\n",
      "Epoch 6/15\n",
      "10000/10000 [==============================] - 1s 114us/step - loss: 0.0225 - acc: 0.9925\n",
      "Epoch 7/15\n",
      "10000/10000 [==============================] - 1s 115us/step - loss: 0.0096 - acc: 0.9977\n",
      "Epoch 8/15\n",
      "10000/10000 [==============================] - 1s 117us/step - loss: 0.0076 - acc: 0.9981\n",
      "Epoch 9/15\n",
      "10000/10000 [==============================] - 1s 119us/step - loss: 0.0268 - acc: 0.9914\n",
      "Epoch 10/15\n",
      "10000/10000 [==============================] - 1s 116us/step - loss: 0.0171 - acc: 0.9949\n",
      "Epoch 11/15\n",
      "10000/10000 [==============================] - 1s 118us/step - loss: 0.0083 - acc: 0.9971\n",
      "Epoch 12/15\n",
      "10000/10000 [==============================] - 1s 120us/step - loss: 0.0132 - acc: 0.9965\n",
      "Epoch 13/15\n",
      "10000/10000 [==============================] - 1s 134us/step - loss: 0.0072 - acc: 0.9981\n",
      "Epoch 14/15\n",
      "10000/10000 [==============================] - 1s 116us/step - loss: 0.0111 - acc: 0.9965\n",
      "Epoch 15/15\n",
      "10000/10000 [==============================] - 1s 140us/step - loss: 0.0016 - acc: 0.9998\n",
      "55000/55000 [==============================] - 7s 126us/step\n",
      "\n",
      "acc: 96.08%\n"
     ]
    }
   ],
   "source": [
    "import pandas as pd\n",
    "import numpy as np\n",
    "from keras.models import Sequential\n",
    "from keras.layers import Dense\n",
    "from keras.layers import advanced_activations\n",
    "from keras.optimizers import Adam\n",
    "\n",
    "# Parameters\n",
    "learning_rate = 0.001\n",
    "num_steps = 15\n",
    "batch_size = 128\n",
    "\n",
    "# Network Parameters\n",
    "n_hidden_1 = 256 # 1st layer number of neurons\n",
    "n_hidden_2 = 256 # 2nd layer number of neurons\n",
    "num_input = 784 # MNIST data input (img shape: 28*28)\n",
    "num_classes = 10 # MNIST total classes (0-9 digits)\n",
    "\n",
    "#\n",
    "activationFun = 'relu'\n",
    "#activationFun = 'softmax'\n",
    "\n",
    "#Definition of the model type\n",
    "model = Sequential()\n",
    "#Definition of the layers\n",
    "model.add(Dense(num_input, input_dim=num_input,activation=activationFun))\n",
    "model.add(Dense(n_hidden_1,activation=activationFun))\n",
    "model.add(Dense(n_hidden_2,activation=activationFun))\n",
    "model.add(Dense(num_classes,activation='softmax'))\n",
    "\n",
    "#Creation of the model\n",
    "adam = Adam(lr=learning_rate)\n",
    "model.compile(loss='categorical_crossentropy', optimizer=adam,metrics=['accuracy'])\n",
    "#Fit of the network\n",
    "X = mnist.test.images\n",
    "Y = mnist.test.labels\n",
    "X_test = mnist.train.images\n",
    "Y_test = mnist.train.labels\n",
    "history = model.fit(X, Y, epochs=num_steps, batch_size=batch_size,validation_data=(X_test,Y_test))#validation_split=0.05\n",
    "# evaluate the model\n",
    "scores = model.evaluate(X_test, Y_test)\n",
    "print(\"\\n%s: %.2f%%\" % (model.metrics_names[1], scores[1]*100))"
   ]
  },
  {
   "cell_type": "markdown",
   "metadata": {
    "slideshow": {
     "slide_type": "slide"
    }
   },
   "source": [
    "## Warning\n",
    "\n",
    "Keras is an API, so the implementation of function is not one to one with TensorFlow. Often similar parameters can bring to different results.\n",
    "\n",
    "**You have to optimize the network for Keras, not for Tensorflow**."
   ]
  },
  {
   "cell_type": "markdown",
   "metadata": {
    "slideshow": {
     "slide_type": "slide"
    }
   },
   "source": [
    "## Results Analysis\n",
    "\n",
    "If we take a closer look to the results of the network what we can see?\n",
    "\n",
    "During the fit of the model, with `history = model.fit`, we have stored in `history` all the values of **loss** and **accuracy** for train and test.\n",
    "\n",
    "Note that must pass some validation data or a validation split using `validation_data` or `validation_split` parameters in `model.fit` \n",
    "\n",
    "We can define these and other metrics to be use using the parameter `metrics` in `model.compile`."
   ]
  },
  {
   "cell_type": "code",
   "execution_count": 81,
   "metadata": {
    "slideshow": {
     "slide_type": "subslide"
    }
   },
   "outputs": [
    {
     "data": {
      "application/vnd.jupyter.widget-view+json": {
       "model_id": "a9834503e29244f39fc0c0f152dbdfe1",
       "version_major": 2,
       "version_minor": 0
      }
     },
     "metadata": {},
     "output_type": "display_data"
    }
   ],
   "source": [
    "pd.DataFrame(history.history)"
   ]
  },
  {
   "cell_type": "code",
   "execution_count": 80,
   "metadata": {
    "slideshow": {
     "slide_type": "fragment"
    }
   },
   "outputs": [
    {
     "ename": "KeyError",
     "evalue": "'val_loss'",
     "output_type": "error",
     "traceback": [
      "\u001b[0;31m---------------------------------------------------------------------------\u001b[0m",
      "\u001b[0;31mKeyError\u001b[0m                                  Traceback (most recent call last)",
      "\u001b[0;32m<ipython-input-80-24fe32513cc1>\u001b[0m in \u001b[0;36m<module>\u001b[0;34m()\u001b[0m\n\u001b[1;32m      2\u001b[0m \u001b[0mhistory_dict\u001b[0m\u001b[0;34m=\u001b[0m\u001b[0mhistory\u001b[0m\u001b[0;34m.\u001b[0m\u001b[0mhistory\u001b[0m\u001b[0;34m\u001b[0m\u001b[0m\n\u001b[1;32m      3\u001b[0m \u001b[0mloss_values\u001b[0m \u001b[0;34m=\u001b[0m \u001b[0mhistory_dict\u001b[0m\u001b[0;34m[\u001b[0m\u001b[0;34m'loss'\u001b[0m\u001b[0;34m]\u001b[0m\u001b[0;34m\u001b[0m\u001b[0m\n\u001b[0;32m----> 4\u001b[0;31m \u001b[0mval_loss_values\u001b[0m \u001b[0;34m=\u001b[0m \u001b[0mhistory_dict\u001b[0m\u001b[0;34m[\u001b[0m\u001b[0;34m'val_loss'\u001b[0m\u001b[0;34m]\u001b[0m\u001b[0;34m\u001b[0m\u001b[0m\n\u001b[0m\u001b[1;32m      5\u001b[0m \u001b[0mepochs\u001b[0m \u001b[0;34m=\u001b[0m \u001b[0mrange\u001b[0m\u001b[0;34m(\u001b[0m\u001b[0;36m1\u001b[0m\u001b[0;34m,\u001b[0m \u001b[0mlen\u001b[0m\u001b[0;34m(\u001b[0m\u001b[0mloss_values\u001b[0m\u001b[0;34m)\u001b[0m \u001b[0;34m+\u001b[0m \u001b[0;36m1\u001b[0m\u001b[0;34m)\u001b[0m\u001b[0;34m\u001b[0m\u001b[0m\n\u001b[1;32m      6\u001b[0m \u001b[0mplt\u001b[0m\u001b[0;34m.\u001b[0m\u001b[0mplot\u001b[0m\u001b[0;34m(\u001b[0m\u001b[0mepochs\u001b[0m\u001b[0;34m,\u001b[0m \u001b[0mloss_values\u001b[0m\u001b[0;34m,\u001b[0m \u001b[0;34m'bo'\u001b[0m\u001b[0;34m)\u001b[0m\u001b[0;34m\u001b[0m\u001b[0m\n",
      "\u001b[0;31mKeyError\u001b[0m: 'val_loss'"
     ]
    }
   ],
   "source": [
    "from matplotlib import pyplot as plt\n",
    "history_dict=history.history\n",
    "loss_values = history_dict['loss']\n",
    "val_loss_values = history_dict['val_loss']\n",
    "epochs = range(1, len(loss_values) + 1)\n",
    "plt.plot(epochs, loss_values, 'bo')\n",
    "plt.plot(epochs, val_loss_values, 'b+')\n",
    "plt.xlabel('Epochs')\n",
    "plt.ylabel('Loss')"
   ]
  },
  {
   "cell_type": "code",
   "execution_count": 77,
   "metadata": {
    "slideshow": {
     "slide_type": "fragment"
    }
   },
   "outputs": [
    {
     "data": {
      "text/plain": [
       "Text(0,0.5,'Accuracy')"
      ]
     },
     "execution_count": 77,
     "metadata": {},
     "output_type": "execute_result"
    },
    {
     "data": {
      "image/png": "[encoded data removed]",
      "text/plain": [
       "<Figure size 432x288 with 1 Axes>"
      ]
     },
     "metadata": {},
     "output_type": "display_data"
    }
   ],
   "source": [
    "loss_values = history_dict['acc']\n",
    "val_loss_values = history_dict['val_acc']\n",
    "epochs = range(1, len(loss_values) + 1)\n",
    "plt.plot(epochs, loss_values, 'bo')\n",
    "plt.plot(epochs, val_loss_values, 'b+')\n",
    "plt.xlabel('Epochs')\n",
    "plt.ylabel('Accuracy')"
   ]
  },
  {
   "cell_type": "markdown",
   "metadata": {
    "slideshow": {
     "slide_type": "slide"
    }
   },
   "source": [
    "## Keras Single Class\n",
    "\n",
    "Now we'll make an example of a binary classification task using Keras.\n",
    "\n",
    "The dataset is hosted on [Kaggle](https://www.kaggle.com/) and it's the [Promotion Response for a New Product](https://www.kaggle.com/regivm/promotion-response-and-target-datasets/version/1).\n",
    "\n",
    "The description of th dataset is the following:\n",
    "\n",
    "*The context of this business problem is new product introduction. A business organization developed a new product and promoted this to its existing customers. Initially it chose a sample of customers for promotion and the response information is available in the 'promoted' dataset. The organization is interested in building a model to select the best customers for contacting from the pool of customers not contacted ('target' dataset).*\n",
    "\n",
    "and the columns are:\n",
    "\n",
    "  - customer_id\n",
    "  - **res** (what we want to predict)\n",
    "  - card_tenure\n",
    "  - risk_score\n",
    "  - num_promoted\n",
    "  - avg_bal\n",
    "  - geo_group\n",
    "  - res_type"
   ]
  },
  {
   "cell_type": "code",
   "execution_count": 84,
   "metadata": {
    "slideshow": {
     "slide_type": "subslide"
    }
   },
   "outputs": [
    {
     "name": "stderr",
     "output_type": "stream",
     "text": [
      "2018-10-07 20:17:47,684 : INFO : INIZIALIZATION OF LOADDATA\n",
      "2018-10-07 20:17:47,685 : INFO : READING data/target.csv\n",
      "2018-10-07 20:17:47,854 : INFO : LOADED DATASET WITH SHAPE (110000, 8) AND COLUMUNS Index(['customer_id', 'card_tenure', 'risk_score', 'num_promoted', 'avg_bal',\n",
      "       'geo_group', 'res_type', 'Unnamed: 7'],\n",
      "      dtype='object')\n",
      "2018-10-07 20:17:47,889 : INFO : READING data/promoted.csv\n",
      "2018-10-07 20:17:47,928 : INFO : LOADED DATASET WITH SHAPE (25000, 8) AND COLUMUNS Index(['customer_id', 'resp', 'card_tenure', 'risk_score', 'num_promoted',\n",
      "       'avg_bal', 'geo_group', 'res_type'],\n",
      "      dtype='object')\n",
      "2018-10-07 20:17:47,946 : INFO : REMOVING ROWS WITH NA\n",
      "2018-10-07 20:17:47,948 : INFO : NROWS BEFORE REMOVING NA 25000\n",
      "2018-10-07 20:17:47,959 : INFO : NROWS AFTER REMOVING NA 22400\n",
      "2018-10-07 20:17:47,962 : INFO : SCALING OF NUMERIC COLUMNS\n",
      "2018-10-07 20:17:47,983 : INFO : CONSIDERING LEVELS FOR CATEGORICAL COLUMNS\n",
      "2018-10-07 20:17:47,988 : INFO : INIZIALIZATION OF CreateNN\n",
      "2018-10-07 20:17:47,988 : INFO : DEFINITION OF THE MODEL\n",
      "2018-10-07 20:17:48,044 : INFO : COMPILATION OF THE MODEL\n"
     ]
    },
    {
     "name": "stdout",
     "output_type": "stream",
     "text": [
      "After reading          card_tenure     risk_score   num_promoted  Unnamed: 7\n",
      "count  107792.000000  110000.000000  110000.000000         0.0\n",
      "mean      138.956564     655.571482       0.006782         NaN\n",
      "std        67.433081      81.252328       0.082183         NaN\n",
      "min        12.000000     520.000000       0.000000         NaN\n",
      "25%        91.000000     600.000000       0.000000         NaN\n",
      "50%       135.000000     678.000000       0.000000         NaN\n",
      "75%       179.000000     720.000000       0.000000         NaN\n",
      "max       641.000000     760.000000       2.000000         NaN\n",
      "After reading                resp   card_tenure    risk_score  num_promoted\n",
      "count  25000.000000  24515.000000  25000.000000  25000.000000\n",
      "mean       0.068640    139.491617    655.091680      0.007000\n",
      "std        0.252846     66.998010     81.315116      0.083374\n",
      "min        0.000000      0.000000    520.000000      0.000000\n",
      "25%        0.000000     95.000000    599.000000      0.000000\n",
      "50%        0.000000    135.000000    677.000000      0.000000\n",
      "75%        0.000000    179.000000    719.000000      0.000000\n",
      "max        1.000000    641.000000    760.000000      1.000000\n",
      "_________________________________________________________________\n",
      "Layer (type)                 Output Shape              Param #   \n",
      "=================================================================\n",
      "dense_137 (Dense)            (None, 6)                 42        \n",
      "_________________________________________________________________\n",
      "dense_138 (Dense)            (None, 25)                175       \n",
      "_________________________________________________________________\n",
      "dense_139 (Dense)            (None, 10)                260       \n",
      "_________________________________________________________________\n",
      "dense_140 (Dense)            (None, 1)                 11        \n",
      "=================================================================\n",
      "Total params: 488\n",
      "Trainable params: 488\n",
      "Non-trainable params: 0\n",
      "_________________________________________________________________\n",
      "None\n"
     ]
    },
    {
     "name": "stderr",
     "output_type": "stream",
     "text": [
      "2018-10-07 20:17:48,100 : INFO : EVALUATION OF THE MODEL\n",
      "2018-10-07 20:17:48,101 : INFO : START OF THE CROSS VALIDATION\n",
      "2018-10-07 20:17:48,105 : INFO : WORKING ON FOLD 1\n"
     ]
    },
    {
     "name": "stdout",
     "output_type": "stream",
     "text": [
      "train set [ 4481  4482  4483 ... 22397 22398 22399]\n",
      "Epoch 1/15\n",
      "17919/17919 [==============================] - 1s 73us/step - loss: 0.7491 - acc: 0.9126: 0s - loss: 0.9311 - acc: 0.90\n",
      "Epoch 2/15\n",
      "17919/17919 [==============================] - 0s 17us/step - loss: 0.2946 - acc: 0.9315\n",
      "Epoch 3/15\n",
      "17919/17919 [==============================] - 0s 18us/step - loss: 0.2807 - acc: 0.9315\n",
      "Epoch 4/15\n",
      "17919/17919 [==============================] - 0s 16us/step - loss: 0.2754 - acc: 0.9315\n",
      "Epoch 5/15\n",
      "17919/17919 [==============================] - 0s 14us/step - loss: 0.2657 - acc: 0.9315\n",
      "Epoch 6/15\n",
      "17919/17919 [==============================] - 0s 14us/step - loss: 0.2648 - acc: 0.9315\n",
      "Epoch 7/15\n",
      "17919/17919 [==============================] - 0s 15us/step - loss: 0.2625 - acc: 0.9315\n",
      "Epoch 8/15\n",
      "17919/17919 [==============================] - 0s 15us/step - loss: 0.2719 - acc: 0.9315\n",
      "Epoch 9/15\n",
      "17919/17919 [==============================] - 0s 18us/step - loss: 0.2590 - acc: 0.9315\n",
      "Epoch 10/15\n",
      "17919/17919 [==============================] - 0s 16us/step - loss: 0.2624 - acc: 0.9315\n",
      "Epoch 11/15\n",
      "17919/17919 [==============================] - 0s 15us/step - loss: 0.2601 - acc: 0.9315\n",
      "Epoch 12/15\n",
      "17919/17919 [==============================] - 0s 16us/step - loss: 0.2594 - acc: 0.9315\n",
      "Epoch 13/15\n",
      "17919/17919 [==============================] - 0s 16us/step - loss: 0.2540 - acc: 0.9315\n",
      "Epoch 14/15\n",
      "17919/17919 [==============================] - 0s 17us/step - loss: 0.2539 - acc: 0.9315\n",
      "Epoch 15/15\n",
      "17919/17919 [==============================] - 0s 18us/step - loss: 0.2624 - acc: 0.9315\n",
      "4481/4481 [==============================] - 0s 109us/step\n"
     ]
    },
    {
     "name": "stderr",
     "output_type": "stream",
     "text": [
      "2018-10-07 20:17:54,215 : INFO : WORKING ON FOLD 2\n"
     ]
    },
    {
     "name": "stdout",
     "output_type": "stream",
     "text": [
      "train set [    0     1     2 ... 22397 22398 22399]\n",
      "Epoch 1/15\n",
      "17920/17920 [==============================] - 0s 14us/step - loss: 0.2640 - acc: 0.9314\n",
      "Epoch 2/15\n",
      "17920/17920 [==============================] - 0s 17us/step - loss: 0.2604 - acc: 0.9314\n",
      "Epoch 3/15\n",
      "17920/17920 [==============================] - 0s 17us/step - loss: 0.2582 - acc: 0.9314\n",
      "Epoch 4/15\n",
      "17920/17920 [==============================] - 0s 14us/step - loss: 0.2527 - acc: 0.9314\n",
      "Epoch 5/15\n",
      "17920/17920 [==============================] - 0s 15us/step - loss: 0.2529 - acc: 0.9314\n",
      "Epoch 6/15\n",
      "17920/17920 [==============================] - 0s 14us/step - loss: 0.2500 - acc: 0.9314\n",
      "Epoch 7/15\n",
      "17920/17920 [==============================] - 0s 16us/step - loss: 0.2508 - acc: 0.9314\n",
      "Epoch 8/15\n",
      "17920/17920 [==============================] - 0s 16us/step - loss: 0.2552 - acc: 0.9314\n",
      "Epoch 9/15\n",
      "17920/17920 [==============================] - 0s 16us/step - loss: 0.2512 - acc: 0.9314\n",
      "Epoch 10/15\n",
      "17920/17920 [==============================] - 0s 16us/step - loss: 0.2577 - acc: 0.9314\n",
      "Epoch 11/15\n",
      "17920/17920 [==============================] - 0s 18us/step - loss: 0.2511 - acc: 0.9314\n",
      "Epoch 12/15\n",
      "17920/17920 [==============================] - 0s 17us/step - loss: 0.2520 - acc: 0.9314\n",
      "Epoch 13/15\n",
      "17920/17920 [==============================] - 0s 14us/step - loss: 0.2485 - acc: 0.9314\n",
      "Epoch 14/15\n",
      "17920/17920 [==============================] - 0s 15us/step - loss: 0.2500 - acc: 0.9314\n",
      "Epoch 15/15\n",
      "17920/17920 [==============================] - 0s 16us/step - loss: 0.2487 - acc: 0.9314\n",
      "4480/4480 [==============================] - 0s 32us/step\n"
     ]
    },
    {
     "name": "stderr",
     "output_type": "stream",
     "text": [
      "2018-10-07 20:17:58,629 : INFO : WORKING ON FOLD 3\n"
     ]
    },
    {
     "name": "stdout",
     "output_type": "stream",
     "text": [
      "train set [    0     1     2 ... 22397 22398 22399]\n",
      "Epoch 1/15\n",
      "17920/17920 [==============================] - 0s 16us/step - loss: 0.2480 - acc: 0.9314\n",
      "Epoch 2/15\n",
      "17920/17920 [==============================] - 0s 17us/step - loss: 0.2493 - acc: 0.9314\n",
      "Epoch 3/15\n",
      "17920/17920 [==============================] - 0s 17us/step - loss: 0.2482 - acc: 0.9314\n",
      "Epoch 4/15\n",
      "17920/17920 [==============================] - 0s 14us/step - loss: 0.2491 - acc: 0.9314\n",
      "Epoch 5/15\n",
      "17920/17920 [==============================] - 0s 14us/step - loss: 0.2485 - acc: 0.9314\n",
      "Epoch 6/15\n",
      "17920/17920 [==============================] - 0s 15us/step - loss: 0.2490 - acc: 0.9314\n",
      "Epoch 7/15\n",
      "17920/17920 [==============================] - 0s 14us/step - loss: 0.2484 - acc: 0.9314\n",
      "Epoch 8/15\n",
      "17920/17920 [==============================] - 0s 14us/step - loss: 0.2488 - acc: 0.9314\n",
      "Epoch 9/15\n",
      "17920/17920 [==============================] - 0s 14us/step - loss: 0.2480 - acc: 0.9314\n",
      "Epoch 10/15\n",
      "17920/17920 [==============================] - 0s 17us/step - loss: 0.2478 - acc: 0.9314\n",
      "Epoch 11/15\n",
      "17920/17920 [==============================] - 0s 17us/step - loss: 0.2477 - acc: 0.9314\n",
      "Epoch 12/15\n",
      "17920/17920 [==============================] - 0s 16us/step - loss: 0.2481 - acc: 0.9314\n",
      "Epoch 13/15\n",
      "17920/17920 [==============================] - 0s 16us/step - loss: 0.2500 - acc: 0.9314\n",
      "Epoch 14/15\n",
      "17920/17920 [==============================] - 0s 18us/step - loss: 0.2481 - acc: 0.9314\n",
      "Epoch 15/15\n",
      "17920/17920 [==============================] - 0s 16us/step - loss: 0.2479 - acc: 0.9314\n",
      "4480/4480 [==============================] - 0s 29us/step\n"
     ]
    },
    {
     "name": "stderr",
     "output_type": "stream",
     "text": [
      "2018-10-07 20:18:02,960 : INFO : WORKING ON FOLD 4\n"
     ]
    },
    {
     "name": "stdout",
     "output_type": "stream",
     "text": [
      "train set [    0     1     2 ... 22397 22398 22399]\n",
      "Epoch 1/15\n",
      "17920/17920 [==============================] - 1s 34us/step - loss: 0.2479 - acc: 0.9314\n",
      "Epoch 2/15\n",
      "17920/17920 [==============================] - 1s 42us/step - loss: 0.2487 - acc: 0.9314\n",
      "Epoch 3/15\n",
      "17920/17920 [==============================] - 1s 39us/step - loss: 0.2488 - acc: 0.9314\n",
      "Epoch 4/15\n",
      "17920/17920 [==============================] - 1s 39us/step - loss: 0.2498 - acc: 0.9314\n",
      "Epoch 5/15\n",
      "17920/17920 [==============================] - 1s 43us/step - loss: 0.2483 - acc: 0.9314\n",
      "Epoch 6/15\n",
      "17920/17920 [==============================] - 1s 38us/step - loss: 0.2480 - acc: 0.9314\n",
      "Epoch 7/15\n",
      "17920/17920 [==============================] - 1s 52us/step - loss: 0.2489 - acc: 0.9314\n",
      "Epoch 8/15\n",
      "17920/17920 [==============================] - 1s 43us/step - loss: 0.2499 - acc: 0.9314\n",
      "Epoch 9/15\n",
      "17920/17920 [==============================] - 1s 43us/step - loss: 0.2482 - acc: 0.9314\n",
      "Epoch 10/15\n",
      "17920/17920 [==============================] - 1s 44us/step - loss: 0.2482 - acc: 0.9314\n",
      "Epoch 11/15\n",
      "17920/17920 [==============================] - 1s 38us/step - loss: 0.2475 - acc: 0.9314\n",
      "Epoch 12/15\n",
      "17920/17920 [==============================] - 1s 38us/step - loss: 0.2483 - acc: 0.9314\n",
      "Epoch 13/15\n",
      "17920/17920 [==============================] - 1s 46us/step - loss: 0.2484 - acc: 0.9314\n",
      "Epoch 14/15\n",
      "17920/17920 [==============================] - 1s 41us/step - loss: 0.2478 - acc: 0.9314\n",
      "Epoch 15/15\n",
      "17920/17920 [==============================] - 0s 15us/step - loss: 0.2473 - acc: 0.9314\n",
      "4480/4480 [==============================] - 0s 27us/step\n"
     ]
    },
    {
     "name": "stderr",
     "output_type": "stream",
     "text": [
      "2018-10-07 20:18:13,791 : INFO : WORKING ON FOLD 5\n"
     ]
    },
    {
     "name": "stdout",
     "output_type": "stream",
     "text": [
      "train set [    0     1     2 ... 18008 18031 18032]\n",
      "Epoch 1/15\n",
      "17921/17921 [==============================] - 0s 17us/step - loss: 0.2483 - acc: 0.9314\n",
      "Epoch 2/15\n",
      "17921/17921 [==============================] - 0s 15us/step - loss: 0.2491 - acc: 0.9314\n",
      "Epoch 3/15\n",
      "17921/17921 [==============================] - 0s 15us/step - loss: 0.2490 - acc: 0.9314\n",
      "Epoch 4/15\n",
      "17921/17921 [==============================] - 0s 16us/step - loss: 0.2493 - acc: 0.9314\n",
      "Epoch 5/15\n",
      "17921/17921 [==============================] - 0s 14us/step - loss: 0.2523 - acc: 0.9314\n",
      "Epoch 6/15\n",
      "17921/17921 [==============================] - 0s 14us/step - loss: 0.2499 - acc: 0.9314\n",
      "Epoch 7/15\n",
      "17921/17921 [==============================] - 0s 17us/step - loss: 0.2503 - acc: 0.9314\n",
      "Epoch 8/15\n",
      "17921/17921 [==============================] - 0s 14us/step - loss: 0.2499 - acc: 0.9314\n",
      "Epoch 9/15\n",
      "17921/17921 [==============================] - 0s 15us/step - loss: 0.2499 - acc: 0.9314\n",
      "Epoch 10/15\n",
      "17921/17921 [==============================] - 0s 16us/step - loss: 0.2499 - acc: 0.9314\n",
      "Epoch 11/15\n",
      "17921/17921 [==============================] - 0s 15us/step - loss: 0.2496 - acc: 0.9314\n",
      "Epoch 12/15\n",
      "17921/17921 [==============================] - 0s 15us/step - loss: 0.2503 - acc: 0.9314\n",
      "Epoch 13/15\n",
      "17921/17921 [==============================] - 0s 18us/step - loss: 0.2486 - acc: 0.9314\n",
      "Epoch 14/15\n",
      "17921/17921 [==============================] - 1s 37us/step - loss: 0.2489 - acc: 0.9314\n",
      "Epoch 15/15\n",
      "17921/17921 [==============================] - 1s 42us/step - loss: 0.2490 - acc: 0.9314\n",
      "4479/4479 [==============================] - 0s 84us/step\n"
     ]
    },
    {
     "name": "stderr",
     "output_type": "stream",
     "text": [
      "2018-10-07 20:18:19,194 : INFO : EVALUATION COMPLETED\n"
     ]
    },
    {
     "name": "stdout",
     "output_type": "stream",
     "text": [
      "\n",
      "acc: 0.93%+/-0.00%\n"
     ]
    }
   ],
   "source": [
    "import os\n",
    "import pandas as pd\n",
    "import numpy as np\n",
    "from keras.models import Sequential\n",
    "from keras.layers import Dense\n",
    "from keras.layers import advanced_activations\n",
    "from keras.optimizers import Adam\n",
    "from sklearn import preprocessing\n",
    "import logging\n",
    "from sklearn.model_selection import StratifiedKFold\n",
    "\n",
    "logging.basicConfig(format='%(asctime)s : %(levelname)s : %(message)s', level=logging.INFO)\n",
    "logger = logging.getLogger('')\n",
    "\n",
    "# Parameters\n",
    "learning_rate = 0.001\n",
    "num_steps = 15\n",
    "batch_size = 128\n",
    "n_fold = 5\n",
    "\n",
    "# Network Parameters\n",
    "n_hidden_1 = 25 # 1st layer number of neurons\n",
    "n_hidden_2 = 10 # 2nd layer number of neurons\n",
    "num_input = 6 # MNIST data input (img shape: 28*28)\n",
    "num_classes = 1 # MNIST total classes (0-9 digits)\n",
    "\n",
    "trainFile = 'promoted.csv'\n",
    "predFile = 'target.csv'\n",
    "\n",
    "#\n",
    "activationFun = 'relu'\n",
    "#activationFun = 'softmax'\n",
    "\n",
    "class LoadData:\n",
    "    def __init__(self,**kargs):\n",
    "        self.path = 'data'\n",
    "        self.trainFile = kargs['tr']\n",
    "        \n",
    "    def readFiles(self,fileName):\n",
    "        fullPath = os.path.join(self.path,fileName)\n",
    "        logger.info('READING %s',fullPath)\n",
    "        df = pd.read_csv(fullPath,sep=',',dtype={'avg_bal':'category', 'geo_group':'category', 'res_type':'category',})#dtype={'avg_bal':'category', 'geo_group':'category', 'res_type':'category',}\n",
    "        logger.info('LOADED DATASET WITH SHAPE %s AND COLUMUNS %s',str(df.shape),str(df.columns))\n",
    "        print('After reading',df.describe())\n",
    "        return df\n",
    "        \n",
    "    def prepareTrain(self):\n",
    "        dfTrain = self.readFiles(self.trainFile)\n",
    "        logger.info('REMOVING ROWS WITH NA')\n",
    "        logger.info('NROWS BEFORE REMOVING NA %i',dfTrain.shape[0])\n",
    "        dfTrain.dropna(inplace=True)\n",
    "        logger.info('NROWS AFTER REMOVING NA %i',dfTrain.shape[0])\n",
    "        X_train = dfTrain.drop(columns=['resp'])\n",
    "        Y_train = dfTrain.loc[:,'resp']\n",
    "        logger.info('SCALING OF NUMERIC COLUMNS')\n",
    "        mmscaler = preprocessing.MinMaxScaler()\n",
    "        X_train[['card_tenure', 'risk_score', 'num_promoted']] = mmscaler.fit_transform(X_train[['card_tenure', 'risk_score', 'num_promoted']])  \n",
    "        logger.info('CONSIDERING LEVELS FOR CATEGORICAL COLUMNS')\n",
    "        for curCol in ['avg_bal','geo_group', 'res_type']:\n",
    "            X_train[curCol] = dfTrain[curCol].cat.codes\n",
    "        return X_train, Y_train\n",
    "\n",
    "class CreateNN:\n",
    "    def __init__(self,**kargs):\n",
    "        self.X_train = kargs['xt']\n",
    "        self.Y_train = kargs['yt']\n",
    "        self.kFold = kargs['kf']\n",
    "        self.i = 1\n",
    "        \n",
    "    def modelDefinition(self):\n",
    "        logger.info('DEFINITION OF THE MODEL')\n",
    "        self.model = Sequential()\n",
    "        self.model.add(Dense(num_input, input_dim = num_input,activation=activationFun))\n",
    "        self.model.add(Dense(n_hidden_1,activation = activationFun))\n",
    "        self.model.add(Dense(n_hidden_2,activation = activationFun))\n",
    "        self.model.add(Dense(num_classes,activation = 'sigmoid'))\n",
    "        print(self.model.summary())\n",
    "    \n",
    "    def modelCompile(self):\n",
    "        logger.info('COMPILATION OF THE MODEL')\n",
    "        adam = Adam(lr = learning_rate)\n",
    "        self.model.compile(loss = 'binary_crossentropy', optimizer = adam,metrics = ['accuracy'])\n",
    "        \n",
    "    def modelEval(self):\n",
    "        logger.info('EVALUATION OF THE MODEL')\n",
    "        totalScores = list()\n",
    "        logger.info('START OF THE CROSS VALIDATION')\n",
    "        for train,test in self.kFold.split(self.X_train, self.Y_train):\n",
    "            logger.info('WORKING ON FOLD %i',self.i)\n",
    "            print('train set',train)\n",
    "            history = self.model.fit(self.X_train.iloc[train], self.Y_train.iloc[train],\n",
    "                                     epochs=num_steps, \n",
    "                                     batch_size = batch_size) #validation_data=(self.X_train.iloc[test], self.Y_train.iloc[test])\n",
    "            scores = self.model.evaluate(self.X_train.iloc[test], self.Y_train.iloc[test])\n",
    "            totalScores.append(scores[1])\n",
    "            self.i += 1\n",
    "        return history, self.model, totalScores\n",
    "    \n",
    "    def modelPredict(self):\n",
    "        self.model.predict(......)\n",
    "    \n",
    "    \n",
    "def main():\n",
    "    #Inizialization of the class LoadData \n",
    "    logger.info('INIZIALIZATION OF LOADDATA')\n",
    "    ld = LoadData(tr=trainFile)\n",
    "    df2Pred = ld.readFiles(predFile)\n",
    "    X_train, Y_train = ld.prepareTrain()\n",
    "    kfold = StratifiedKFold(n_splits=n_fold)\n",
    "    logger.info('INIZIALIZATION OF CreateNN')\n",
    "    cnn = CreateNN(xt=X_train,yt=Y_train,kf=kfold)\n",
    "    cnn.modelDefinition()\n",
    "    cnn.modelCompile()\n",
    "    history, model, totalScores = cnn.modelEval() \n",
    "    logger.info('EVALUATION COMPLETED')\n",
    "    logger.info(\"FOR THE ACTUAL MODEL THE RESULTS OF %s IS: %.2f%%+/-%.2f%%\" % (model.metrics_names[1], np.mean(totalScores),np.std(totalScores)))\n",
    "    return X_train,Y_train, history,totalScores\n",
    "    \n",
    "X_train,Y_train, history,totalScores = main()"
   ]
  },
  {
   "cell_type": "markdown",
   "metadata": {},
   "source": [
    "## Exercise\n",
    "\n",
    "Try to understand the best parameters for the above model using what we have learned in this lesson (hint: look if the model is overfitting).\n",
    "\n",
    "After the definition of a good model, try to make the prediction over the pred set."
   ]
  },
  {
   "cell_type": "code",
   "execution_count": 86,
   "metadata": {},
   "outputs": [
    {
     "name": "stdout",
     "output_type": "stream",
     "text": [
      "Epoch 1/30\n",
      "5/5 [==============================] - 1s 133ms/step - loss: 3.1273 - mean_squared_error: 3.1273\n",
      "Epoch 2/30\n",
      "5/5 [==============================] - 0s 1ms/step - loss: 0.1515 - mean_squared_error: 0.1515\n",
      "Epoch 3/30\n",
      "5/5 [==============================] - 0s 3ms/step - loss: 0.0134 - mean_squared_error: 0.0134\n",
      "Epoch 4/30\n",
      "5/5 [==============================] - 0s 3ms/step - loss: 0.0085 - mean_squared_error: 0.0085\n",
      "Epoch 5/30\n",
      "5/5 [==============================] - 0s 2ms/step - loss: 0.0084 - mean_squared_error: 0.0084\n",
      "Epoch 6/30\n",
      "5/5 [==============================] - 0s 3ms/step - loss: 0.0083 - mean_squared_error: 0.0083\n",
      "Epoch 7/30\n",
      "5/5 [==============================] - 0s 3ms/step - loss: 0.0080 - mean_squared_error: 0.0080\n",
      "Epoch 8/30\n",
      "5/5 [==============================] - 0s 3ms/step - loss: 0.0077 - mean_squared_error: 0.0077\n",
      "Epoch 9/30\n",
      "5/5 [==============================] - 0s 3ms/step - loss: 0.0074 - mean_squared_error: 0.0074\n",
      "Epoch 10/30\n",
      "5/5 [==============================] - 0s 3ms/step - loss: 0.0072 - mean_squared_error: 0.0072\n",
      "Epoch 11/30\n",
      "5/5 [==============================] - 0s 3ms/step - loss: 0.0069 - mean_squared_error: 0.0069\n",
      "Epoch 12/30\n",
      "5/5 [==============================] - 0s 4ms/step - loss: 0.0067 - mean_squared_error: 0.0067\n",
      "Epoch 13/30\n",
      "5/5 [==============================] - 0s 3ms/step - loss: 0.0064 - mean_squared_error: 0.0064\n",
      "Epoch 14/30\n",
      "5/5 [==============================] - 0s 6ms/step - loss: 0.0062 - mean_squared_error: 0.0062\n",
      "Epoch 15/30\n",
      "5/5 [==============================] - 0s 7ms/step - loss: 0.0060 - mean_squared_error: 0.0060\n",
      "Epoch 16/30\n",
      "5/5 [==============================] - 0s 8ms/step - loss: 0.0058 - mean_squared_error: 0.0058\n",
      "Epoch 17/30\n",
      "5/5 [==============================] - 0s 4ms/step - loss: 0.0056 - mean_squared_error: 0.0056\n",
      "Epoch 18/30\n",
      "5/5 [==============================] - 0s 3ms/step - loss: 0.0054 - mean_squared_error: 0.0054\n",
      "Epoch 19/30\n",
      "5/5 [==============================] - 0s 3ms/step - loss: 0.0052 - mean_squared_error: 0.0052\n",
      "Epoch 20/30\n",
      "5/5 [==============================] - 0s 3ms/step - loss: 0.0050 - mean_squared_error: 0.0050\n",
      "Epoch 21/30\n",
      "5/5 [==============================] - 0s 3ms/step - loss: 0.0048 - mean_squared_error: 0.0048\n",
      "Epoch 22/30\n",
      "5/5 [==============================] - 0s 3ms/step - loss: 0.0047 - mean_squared_error: 0.0047\n",
      "Epoch 23/30\n",
      "5/5 [==============================] - 0s 4ms/step - loss: 0.0045 - mean_squared_error: 0.0045\n",
      "Epoch 24/30\n",
      "5/5 [==============================] - 0s 2ms/step - loss: 0.0043 - mean_squared_error: 0.0043\n",
      "Epoch 25/30\n",
      "5/5 [==============================] - 0s 3ms/step - loss: 0.0042 - mean_squared_error: 0.0042\n",
      "Epoch 26/30\n",
      "5/5 [==============================] - 0s 3ms/step - loss: 0.0040 - mean_squared_error: 0.0040\n",
      "Epoch 27/30\n",
      "5/5 [==============================] - 0s 2ms/step - loss: 0.0039 - mean_squared_error: 0.0039\n",
      "Epoch 28/30\n",
      "5/5 [==============================] - 0s 3ms/step - loss: 0.0037 - mean_squared_error: 0.0037\n",
      "Epoch 29/30\n",
      "5/5 [==============================] - 0s 4ms/step - loss: 0.0036 - mean_squared_error: 0.0036\n",
      "Epoch 30/30\n",
      "5/5 [==============================] - 0s 3ms/step - loss: 0.0035 - mean_squared_error: 0.0035\n"
     ]
    },
    {
     "data": {
      "text/plain": [
       "<keras.callbacks.History at 0x1a39cbdcf8>"
      ]
     },
     "execution_count": 86,
     "metadata": {},
     "output_type": "execute_result"
    }
   ],
   "source": [
    "import keras\n",
    "from keras.layers import Input, Dense\n",
    "from keras.models import Model\n",
    "\n",
    "inputs = Input(shape=(1,))\n",
    "preds = Dense(1,activation='linear')(inputs)\n",
    "x=np.array([1,2,3,4,5])\n",
    "y=x*2\n",
    "\n",
    "model = Model(inputs=inputs,outputs=preds)\n",
    "sgd=keras.optimizers.SGD()\n",
    "model.compile(optimizer=sgd ,loss='mse',metrics=['mse'])\n",
    "model.fit(x,y, batch_size=1, epochs=30, shuffle=False)"
   ]
  }
 ],
 "metadata": {
  "celltoolbar": "Slideshow",
  "hide_code_all_hidden": false,
  "kernelspec": {
   "display_name": "Python 3",
   "language": "python",
   "name": "python3"
  },
  "language_info": {
   "codemirror_mode": {
    "name": "ipython",
    "version": 3
   },
   "file_extension": ".py",
   "mimetype": "text/x-python",
   "name": "python",
   "nbconvert_exporter": "python",
   "pygments_lexer": "ipython3",
   "version": "3.6.5"
  },
  "toc": {
   "base_numbering": 1,
   "nav_menu": {},
   "number_sections": false,
   "sideBar": false,
   "skip_h1_title": false,
   "title_cell": "Table of Contents",
   "title_sidebar": "Contents",
   "toc_cell": false,
   "toc_position": {},
   "toc_section_display": false,
   "toc_window_display": false
  }
 },
 "nbformat": 4,
 "nbformat_minor": 2
}
